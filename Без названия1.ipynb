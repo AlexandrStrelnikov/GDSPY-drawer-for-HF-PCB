{
 "cells": [
  {
   "cell_type": "code",
   "execution_count": 1,
   "id": "e720d0a8",
   "metadata": {},
   "outputs": [],
   "source": [
    "from multiprocessing import Queue\n",
    "q = Queue()\n",
    "\n",
    "q.put('eat')\n",
    "q.put('sleep')\n",
    "q.put('code')"
   ]
  },
  {
   "cell_type": "code",
   "execution_count": null,
   "id": "1da179ef",
   "metadata": {},
   "outputs": [],
   "source": []
  },
  {
   "cell_type": "code",
   "execution_count": null,
   "id": "d56edc17",
   "metadata": {},
   "outputs": [],
   "source": [
    "print(q.get()) # 'eat'\n",
    "print(q.get()) # 'sleep'\n",
    "print(q.get()) # 'code'\n"
   ]
  },
  {
   "cell_type": "code",
   "execution_count": null,
   "id": "b7c60b1a",
   "metadata": {},
   "outputs": [],
   "source": [
    "q.put('eat')\n",
    "q.put('sleep')\n",
    "q.put('code')"
   ]
  },
  {
   "cell_type": "code",
   "execution_count": 1,
   "id": "10e6cf6d",
   "metadata": {},
   "outputs": [
    {
     "name": "stdout",
     "output_type": "stream",
     "text": [
      "eat\n",
      "sleep\n",
      "code\n"
     ]
    },
    {
     "ename": "IndexError",
     "evalue": "pop from an empty deque",
     "output_type": "error",
     "traceback": [
      "\u001b[1;31m---------------------------------------------------------------------------\u001b[0m",
      "\u001b[1;31mIndexError\u001b[0m                                Traceback (most recent call last)",
      "\u001b[1;32m~\\AppData\\Local\\Temp/ipykernel_16112/1479023490.py\u001b[0m in \u001b[0;36m<module>\u001b[1;34m\u001b[0m\n\u001b[0;32m     11\u001b[0m \u001b[0mprint\u001b[0m\u001b[1;33m(\u001b[0m\u001b[0mq\u001b[0m\u001b[1;33m.\u001b[0m\u001b[0mpopleft\u001b[0m\u001b[1;33m(\u001b[0m\u001b[1;33m)\u001b[0m\u001b[1;33m)\u001b[0m \u001b[1;31m# 'code'\u001b[0m\u001b[1;33m\u001b[0m\u001b[1;33m\u001b[0m\u001b[0m\n\u001b[0;32m     12\u001b[0m \u001b[1;33m\u001b[0m\u001b[0m\n\u001b[1;32m---> 13\u001b[1;33m \u001b[0mprint\u001b[0m\u001b[1;33m(\u001b[0m\u001b[0mq\u001b[0m\u001b[1;33m.\u001b[0m\u001b[0mpopleft\u001b[0m\u001b[1;33m(\u001b[0m\u001b[1;33m)\u001b[0m\u001b[1;33m)\u001b[0m\u001b[1;33m\u001b[0m\u001b[1;33m\u001b[0m\u001b[0m\n\u001b[0m\u001b[0;32m     14\u001b[0m \u001b[0mIndexError\u001b[0m\u001b[1;33m:\u001b[0m \u001b[1;34m\"pop from an empty deque\"\u001b[0m\u001b[1;33m\u001b[0m\u001b[1;33m\u001b[0m\u001b[0m\n",
      "\u001b[1;31mIndexError\u001b[0m: pop from an empty deque"
     ]
    }
   ],
   "source": [
    "from collections import deque\n",
    "q = deque()\n",
    " \n",
    "q.append('eat')\n",
    "q.append('sleep')\n",
    "q.append('code')\n",
    " \n",
    "\n",
    "print(q.popleft()) # 'eat'\n",
    "print(q.popleft()) # 'sleep'\n",
    "print(q.popleft()) # 'code'\n",
    " \n",
    "print(q.popleft())\n",
    "IndexError: \"pop from an empty deque\""
   ]
  },
  {
   "cell_type": "code",
   "execution_count": null,
   "id": "af1fbafd",
   "metadata": {},
   "outputs": [],
   "source": []
  }
 ],
 "metadata": {
  "kernelspec": {
   "display_name": "Python 3 (ipykernel)",
   "language": "python",
   "name": "python3"
  },
  "language_info": {
   "codemirror_mode": {
    "name": "ipython",
    "version": 3
   },
   "file_extension": ".py",
   "mimetype": "text/x-python",
   "name": "python",
   "nbconvert_exporter": "python",
   "pygments_lexer": "ipython3",
   "version": "3.7.12"
  }
 },
 "nbformat": 4,
 "nbformat_minor": 5
}
