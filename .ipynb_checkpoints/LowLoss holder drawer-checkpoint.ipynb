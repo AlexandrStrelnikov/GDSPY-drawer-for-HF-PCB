{
 "cells": [
  {
   "cell_type": "code",
   "execution_count": 1,
   "metadata": {},
   "outputs": [],
   "source": [
    "import gdspy\n",
    "import numpy as np\n",
    "from element import *\n",
    "from sketch import *"
   ]
  },
  {
   "cell_type": "markdown",
   "metadata": {},
   "source": [
    "### Обозначения слоев\n",
    "0 - металл с копланарами\n",
    "\n",
    "1 - подложка\n",
    "\n",
    "2 - металл с чипами\n",
    "\n",
    "3 - vias\n",
    "\n",
    "4 - порты\n",
    "\n",
    "5 - технический уровень\n",
    "\n",
    "6 - сверление на неполную глубину"
   ]
  },
  {
   "cell_type": "code",
   "execution_count": 2,
   "metadata": {},
   "outputs": [],
   "source": [
    "sketch = Sketch('12-pin sample holder')"
   ]
  },
  {
   "cell_type": "code",
   "execution_count": 3,
   "metadata": {},
   "outputs": [
    {
     "name": "stdout",
     "output_type": "stream",
     "text": [
      "0\n",
      "1\n",
      "2\n",
      "3\n",
      "4\n",
      "5\n",
      "6\n",
      "7\n",
      "8\n",
      "9\n",
      "10\n",
      "11\n",
      "12\n",
      "13\n",
      "14\n",
      "15\n"
     ]
    }
   ],
   "source": [
    "Rcpw = 45e3/2\n",
    "\n",
    "R_center_position_hole = 52e3/2\n",
    "D_positionHole = 1.6e3\n",
    "\n",
    "a_screw = 9e3*2\n",
    "D_screw = 4.3e3\n",
    "\n",
    "portePerEdge = 4\n",
    "portsNum = portePerEdge*4\n",
    "singlePortAngle = 2*np.pi/portsNum\n",
    "\n",
    "u_cpw = np.array([np.cos(singlePortAngle*(portePerEdge-1)//2 + singlePortAngle/2*(portePerEdge-1)%2),\n",
    "                 -np.sin(singlePortAngle*(portePerEdge-1)//2 + singlePortAngle/2*(portePerEdge-1)%2)])*Rcpw\n",
    "h_position_hole = np.array([np.cos(singlePortAngle/2 + singlePortAngle*(portePerEdge-1)//2 + singlePortAngle/2*(portePerEdge-1)%2),\n",
    "                 -np.sin(singlePortAngle/2 + singlePortAngle*(portePerEdge-1)//2 + singlePortAngle/2*(portePerEdge-1)%2)])*R_center_position_hole\n",
    "holeSize = 11e3\n",
    "\n",
    "hole = ChipHole(a = holeSize, portsPerEdge = portePerEdge, portDisp = 1280*2)\n",
    "\n",
    "for i in range(0, portsNum):\n",
    "    if i%portePerEdge == 0:\n",
    "        chipPort = PCB_CHIP(leftVia = True, rightVia = True)\n",
    "    else:\n",
    "        chipPort = PCB_CHIP(leftVia = True, rightVia = False)\n",
    "    chipPort.mergeWithPort(hole.ports[i], 1)\n",
    "    \n",
    "    smpPort = SMP_PCB()\n",
    "    smpPort.move(u_cpw)\n",
    "    smpPort.rotate(np.pi - (singlePortAngle*(portePerEdge-1)//2 + singlePortAngle/2*(portePerEdge-1)%2))\n",
    "    smpPort.rotate(singlePortAngle*i, center = (0,0))\n",
    "    \n",
    "    if i%4 == 0 or i%4 == 3:\n",
    "        cpw = CPW(port1 = chipPort.ports[0], port2 =  smpPort.ports[0], s = 1000, w = 330,  inter_dist = 350, chessOrder = True)\n",
    "    else:\n",
    "        cpw = CPW(port1 = chipPort.ports[0], port2 =  smpPort.ports[0], s = 1000, w = 330,  inter_dist = 550, chessOrder = True)\n",
    "    \n",
    "    positionHole = ThroughHole(D_positionHole)\n",
    "    positionHole.move(h_position_hole)\n",
    "    positionHole.rotate(singlePortAngle*i, center = (0,0))\n",
    "    \n",
    "    sketch.addGeometry(positionHole)\n",
    "    sketch.addGeometry(cpw)\n",
    "    sketch.addGeometry(smpPort)\n",
    "    sketch.addGeometry(chipPort)\n",
    "\n",
    "#     print(i)\n",
    "    \n",
    "for i in [-1,1]:\n",
    "    for j in [-1,1]:\n",
    "        screwHole = ThroughHole(D_screw)\n",
    "        screwHole.move((i*a_screw/2, j*a_screw/2))\n",
    "        sketch.addGeometry(screwHole)\n",
    "        \n",
    "    \n",
    "    \n",
    "sketch.addGeometry(hole)\n",
    "sketch.draw()"
   ]
  },
  {
   "cell_type": "code",
   "execution_count": 4,
   "metadata": {},
   "outputs": [
    {
     "name": "stderr",
     "output_type": "stream",
     "text": [
      "C:\\Users\\burun\\Desktop\\GDSPY Drawer\\sketch.py:84: UserWarning: [GDSPY] Polygons with more than 8190 are not supported by the official GDSII specification.  This GDSII file might not be compatible with all readers.\n",
      "  self.lib.write_gds(filename + '.gds')\n"
     ]
    }
   ],
   "source": [
    "# sketch.saveGDS('16pin')\n",
    "# sketch.saveSVG('16pin')"
   ]
  },
  {
   "cell_type": "code",
   "execution_count": 5,
   "metadata": {},
   "outputs": [],
   "source": [
    "# sketch.draw()"
   ]
  },
  {
   "cell_type": "code",
   "execution_count": 6,
   "metadata": {},
   "outputs": [],
   "source": [
    "# mount = SMP_PCB()\n",
    "# mount.draw()"
   ]
  },
  {
   "cell_type": "code",
   "execution_count": 7,
   "metadata": {},
   "outputs": [],
   "source": [
    "# sketch = Sketch('12-pin sample holder')"
   ]
  },
  {
   "cell_type": "code",
   "execution_count": 8,
   "metadata": {},
   "outputs": [],
   "source": [
    "# mount = SMP_PCB()\n",
    "# mount.draw()\n",
    "# sketch.addGeometry(mount)\n",
    "# mount.rotate(90*np.pi/180)\n",
    "# mount.move((0,-10000))\n",
    "# sketch.addGeometry(mount)\n",
    "# sketch.draw()"
   ]
  },
  {
   "cell_type": "markdown",
   "metadata": {},
   "source": [
    "вопрос - а можно ли оботись одним скруглениеем, и когда можно?"
   ]
  },
  {
   "cell_type": "code",
   "execution_count": 9,
   "metadata": {},
   "outputs": [],
   "source": [
    "# curve_tolerance = 0.5e0\n",
    "# port = PCB_CHIP(leftVia = False, rightVia = True)\n",
    "# port.draw()"
   ]
  },
  {
   "cell_type": "code",
   "execution_count": 10,
   "metadata": {},
   "outputs": [],
   "source": [
    "# gdspy.current_library = gdspy.GdsLibrary(name='', unit=1e-6, precision=1e-9)\n",
    "# cell = gdspy.Cell('try')\n",
    "# for i in range(0, 3):\n",
    "#     port_path = gdspy.RobustPath((0, 0), 1000, layer = i)\n",
    "#     port_path.parametric(lambda u: np.array([i*1e3,0]) + np.array([1,0])*u*3e3, width=lambda u: 1e3*(1-u))\n",
    "#     cell.add(port_path)\n",
    "# #     print(len(cell.polygons))\n",
    "# gdspy.LayoutViewer(library=None, cells=cell)\n"
   ]
  },
  {
   "cell_type": "markdown",
   "metadata": {},
   "source": [
    "вероятно, придется smp ставить вплотную!"
   ]
  },
  {
   "cell_type": "code",
   "execution_count": 11,
   "metadata": {},
   "outputs": [
    {
     "data": {
      "text/plain": [
       "1280.0"
      ]
     },
     "execution_count": 11,
     "metadata": {},
     "output_type": "execute_result"
    }
   ],
   "source": [
    "330+1000/2+300+300/2"
   ]
  },
  {
   "cell_type": "code",
   "execution_count": null,
   "metadata": {},
   "outputs": [],
   "source": []
  }
 ],
 "metadata": {
  "kernelspec": {
   "display_name": "Python 3 (ipykernel)",
   "language": "python",
   "name": "python3"
  },
  "language_info": {
   "codemirror_mode": {
    "name": "ipython",
    "version": 3
   },
   "file_extension": ".py",
   "mimetype": "text/x-python",
   "name": "python",
   "nbconvert_exporter": "python",
   "pygments_lexer": "ipython3",
   "version": "3.7.12"
  }
 },
 "nbformat": 4,
 "nbformat_minor": 4
}
