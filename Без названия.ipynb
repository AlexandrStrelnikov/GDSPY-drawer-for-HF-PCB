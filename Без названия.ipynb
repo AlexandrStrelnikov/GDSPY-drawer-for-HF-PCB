{
 "cells": [
  {
   "cell_type": "code",
   "execution_count": 1,
   "id": "ac8d01e5",
   "metadata": {},
   "outputs": [],
   "source": [
    "import gdspy\n",
    "import numpy as np\n",
    "from element import *\n",
    "from sketch import *\n",
    "import imp"
   ]
  },
  {
   "cell_type": "code",
   "execution_count": 2,
   "id": "29466689",
   "metadata": {},
   "outputs": [
    {
     "name": "stdout",
     "output_type": "stream",
     "text": [
      "(6500.0, -7680.0)\n",
      "(20225.424859373685, -14694.631307311829)\n",
      "-1 -1\n",
      "[array([ 8650., -7680.]), array([12202.7805815, -7680.       ]), array([ 13335.89446089, -14694.63130731]), array([ 16888.67504239, -14694.63130731])]\n",
      "4158.0\n",
      "len = 11777.0\n",
      "0\n"
     ]
    }
   ],
   "source": [
    "imp.reload(gdspy)\n",
    "from element import *\n",
    "from sketch import *\n",
    "\n",
    "sketch = Sketch('16-pin sample holder')\n",
    "baseGeometry = gdspy.Round((0, 0), 60e3/2, tolerance=curve_tolerance)\n",
    "for i in [0, 1, 2]:\n",
    "    sketch.boolean(baseGeometry, 'or', i)\n",
    "\n",
    "Rcpw = 50e3/2\n",
    "\n",
    "R_center_position_hole = 53e3/2\n",
    "D_positionHole = 2e3\n",
    "\n",
    "a_screw = 10.5e3*2\n",
    "D_screw = 3.2e3\n",
    "\n",
    "portePerEdge = 5\n",
    "portsNum = portePerEdge*4\n",
    "singlePortAngle = 2*np.pi/portsNum\n",
    "\n",
    "u_cpw = np.array([np.cos(singlePortAngle*(portePerEdge-1)//2 + singlePortAngle/2*(portePerEdge-1)%2),\n",
    "                 -np.sin(singlePortAngle*(portePerEdge-1)//2 + singlePortAngle/2*(portePerEdge-1)%2)])*Rcpw\n",
    "h_position_hole = np.array([np.cos(singlePortAngle/2 + singlePortAngle*(portePerEdge-1)//2 + singlePortAngle/2*(portePerEdge-1)%2),\n",
    "                 -np.sin(singlePortAngle/2 + singlePortAngle*(portePerEdge-1)//2 + singlePortAngle/2*(portePerEdge-1)%2)])*R_center_position_hole\n",
    "holeSize = 10.1e3\n",
    "\n",
    "hole = ChipHole(a = holeSize, TH = 0.5e3, portsPerEdge = portePerEdge, portDisp = 1280*2,  throughAll = True)\n",
    "\n",
    "for i in range(0, 1):\n",
    "    if i%portePerEdge == 0:\n",
    "        chipPort = PCB_CHIP(leftVia = True, rightVia = True)\n",
    "    else:\n",
    "        chipPort = PCB_CHIP(leftVia = True, rightVia = False)\n",
    "    chipPort.mergeWithPort(hole.ports[i], 1)\n",
    "    print(chipPort.position)\n",
    "    \n",
    "    smpPort = SMP_PCB()\n",
    "    smpPort.move(u_cpw)\n",
    "    smpPort.rotate(np.pi - (singlePortAngle*(portePerEdge-1)//2 + singlePortAngle/2*(portePerEdge-1)%2)*0.00)\n",
    "#     smpPort.rotate(np.pi)\n",
    "    smpPort.rotate(singlePortAngle*i, center = (0,0))\n",
    "    print(smpPort.position)\n",
    "    \n",
    "    if i%4 == 0 or i%4 == 3:\n",
    "        cpw = CPW(port1 = chipPort.ports[0], port2 = smpPort.ports[0], s = 1000, w = 330,  inter_dist = 330, chessOrder = True)\n",
    "    else:\n",
    "        cpw = CPW(port1 = chipPort.ports[0], port2 = smpPort.ports[0], s = 1000, w = 330,  inter_dist = 550, chessOrder = True)\n",
    "    \n",
    "   \n",
    "    sketch.addGeometry(cpw)\n",
    "    sketch.addGeometry(smpPort)\n",
    "    sketch.addGeometry(chipPort)\n",
    "\n",
    "    print(i)\n",
    "    \n",
    "for i in range(0, portsNum):    \n",
    "     if i%4 == 3 or i%4 == 1:\n",
    "        positionHole = ThroughHole(D_positionHole)\n",
    "        positionHole.move(h_position_hole)\n",
    "        positionHole.rotate(singlePortAngle*i, center = (0,0))\n",
    "        sketch.addGeometry(positionHole)\n",
    "        \n",
    "    \n",
    "for i in [-1,1]:\n",
    "    for j in [-1,1]:\n",
    "        screwHole = ThroughHole(D_screw)\n",
    "        screwHole.move((i*a_screw/2, j*a_screw/2))\n",
    "        sketch.addGeometry(screwHole)\n",
    "        \n",
    "    \n",
    "    \n",
    "sketch.addGeometry(hole)\n",
    "sketch.draw()\n",
    "# sketch.saveGDS('16pin low quality')\n",
    "# sketch.saveSVG('16pin low quality')"
   ]
  },
  {
   "cell_type": "code",
   "execution_count": 3,
   "id": "2826b7fd",
   "metadata": {},
   "outputs": [
    {
     "data": {
      "text/plain": [
       "array([3, 7])"
      ]
     },
     "execution_count": 3,
     "metadata": {},
     "output_type": "execute_result"
    }
   ],
   "source": [
    "a = np.vstack(([1,2],[3,4]))\n",
    "# a.transpose\n",
    "x = np.array([1, 1])\n",
    "np.dot(a,x)"
   ]
  },
  {
   "cell_type": "code",
   "execution_count": 4,
   "id": "067cac15",
   "metadata": {},
   "outputs": [
    {
     "data": {
      "text/plain": [
       "array([1., 1.])"
      ]
     },
     "execution_count": 4,
     "metadata": {},
     "output_type": "execute_result"
    }
   ],
   "source": [
    "np.linalg.solve(a,np.dot(a,x))"
   ]
  },
  {
   "cell_type": "code",
   "execution_count": 5,
   "id": "baf00083",
   "metadata": {},
   "outputs": [],
   "source": [
    "# imp.reload(gdspy)\n",
    "# from element import *\n",
    "# from sketch import *\n",
    "\n",
    "# sketch = Sketch('16-pin sample holder')\n",
    "# baseGeometry = gdspy.Round((0, 0), 60e3/2, tolerance=curve_tolerance)\n",
    "# for i in [0, 1, 2]:\n",
    "#     sketch.boolean(baseGeometry, 'or', i)\n",
    "\n",
    "# Rcpw = 50e3/2\n",
    "\n",
    "# R_center_position_hole = 53e3/2\n",
    "# D_positionHole = 2e3\n",
    "\n",
    "# a_screw = 10.5e3*2\n",
    "# D_screw = 3.2e3\n",
    "\n",
    "# portePerEdge = 5\n",
    "# portsNum = portePerEdge*4\n",
    "# singlePortAngle = 2*np.pi/portsNum\n",
    "\n",
    "# u_cpw = np.array([np.cos(singlePortAngle*(portePerEdge-1)//2 + singlePortAngle/2*(portePerEdge-1)%2),\n",
    "#                  -np.sin(singlePortAngle*(portePerEdge-1)//2 + singlePortAngle/2*(portePerEdge-1)%2)])*Rcpw\n",
    "# h_position_hole = np.array([np.cos(singlePortAngle/2 + singlePortAngle*(portePerEdge-1)//2 + singlePortAngle/2*(portePerEdge-1)%2),\n",
    "#                  -np.sin(singlePortAngle/2 + singlePortAngle*(portePerEdge-1)//2 + singlePortAngle/2*(portePerEdge-1)%2)])*R_center_position_hole\n",
    "# holeSize = 10.1e3\n",
    "\n",
    "# hole = ChipHole(a = holeSize, TH = 0.5e3, portsPerEdge = portePerEdge, portDisp = 1280*2,  throughAll = True)\n",
    "\n",
    "# for i in range(0, 1):\n",
    "#     if i%portePerEdge == 0:\n",
    "#         chipPort = PCB_CHIP(leftVia = True, rightVia = True)\n",
    "#     else:\n",
    "#         chipPort = PCB_CHIP(leftVia = True, rightVia = False)\n",
    "#     chipPort.mergeWithPort(hole.ports[i], 1)\n",
    "#     print(chipPort.position)\n",
    "    \n",
    "#     smpPort = SMP_PCB()\n",
    "#     smpPort.move(chipPort.ports[0].position + chipPort.ports[0].basis()[0]*15e3)\n",
    "#     smpPort.rotate(np.pi - (singlePortAngle*(portePerEdge-1)//2 + singlePortAngle/2*(portePerEdge-1)%2)*0.5)\n",
    "# #     smpPort.rotate(np.pi)\n",
    "# #     smpPort.rotate(singlePortAngle*i, center = (0,0))\n",
    "#     print(smpPort.position)\n",
    "    \n",
    "#     if i%4 == 0 or i%4 == 3:\n",
    "#         cpw = CPW(port1 = chipPort.ports[0], port2 = smpPort.ports[0], s = 1000, w = 330,  inter_dist = 330, chessOrder = True)\n",
    "#     else:\n",
    "#         cpw = CPW(port1 = chipPort.ports[0], port2 = smpPort.ports[0], s = 1000, w = 330,  inter_dist = 550, chessOrder = True)\n",
    "    \n",
    "   \n",
    "#     sketch.addGeometry(cpw)\n",
    "#     sketch.addGeometry(smpPort)\n",
    "#     sketch.addGeometry(chipPort)\n",
    "\n",
    "#     print(i)\n",
    "    \n",
    "# for i in range(0, portsNum):    \n",
    "#      if i%4 == 3 or i%4 == 1:\n",
    "#         positionHole = ThroughHole(D_positionHole)\n",
    "#         positionHole.move(h_position_hole)\n",
    "#         positionHole.rotate(singlePortAngle*i, center = (0,0))\n",
    "#         sketch.addGeometry(positionHole)\n",
    "        \n",
    "    \n",
    "# for i in [-1,1]:\n",
    "#     for j in [-1,1]:\n",
    "#         screwHole = ThroughHole(D_screw)\n",
    "#         screwHole.move((i*a_screw/2, j*a_screw/2))\n",
    "#         sketch.addGeometry(screwHole)\n",
    "        \n",
    "    \n",
    "    \n",
    "# sketch.addGeometry(hole)\n",
    "# sketch.draw()\n",
    "# # sketch.saveGDS('16pin low quality')\n",
    "# # sketch.saveSVG('16pin low quality')"
   ]
  },
  {
   "cell_type": "code",
   "execution_count": null,
   "id": "3ecc3f1a",
   "metadata": {},
   "outputs": [],
   "source": []
  }
 ],
 "metadata": {
  "kernelspec": {
   "display_name": "Python 3 (ipykernel)",
   "language": "python",
   "name": "python3"
  },
  "language_info": {
   "codemirror_mode": {
    "name": "ipython",
    "version": 3
   },
   "file_extension": ".py",
   "mimetype": "text/x-python",
   "name": "python",
   "nbconvert_exporter": "python",
   "pygments_lexer": "ipython3",
   "version": "3.7.12"
  }
 },
 "nbformat": 4,
 "nbformat_minor": 5
}
