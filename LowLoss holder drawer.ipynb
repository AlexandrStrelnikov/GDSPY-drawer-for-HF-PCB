{
 "cells": [
  {
   "cell_type": "code",
   "execution_count": 1,
   "metadata": {},
   "outputs": [],
   "source": [
    "import gdspy\n",
    "import numpy as np\n",
    "from element import *\n",
    "from sketch import *"
   ]
  },
  {
   "cell_type": "code",
   "execution_count": 2,
   "metadata": {},
   "outputs": [
    {
     "name": "stdout",
     "output_type": "stream",
     "text": [
      "Порт 0, координаты (5.000000, 0.000000), угол 4.712389\n",
      "[<element.Port object at 0x000001C53163B308>]\n",
      "[<element.Port object at 0x000001C53163B308>]\n"
     ]
    }
   ],
   "source": [
    "element = Geometry()\n",
    "element.isInverted[1] = True\n",
    "rect = gdspy.Rectangle((0,0), (10,5))\n",
    "element.boolean(rect, 'or', 2)\n",
    "circle = gdspy.Round((0, 5), 2)\n",
    "element.boolean(circle, 'or', 1)\n",
    "# element.move((1,1))\n",
    "# element.rotate(90*np.pi/180)\n",
    "element.addPort((5, 0), 270*np.pi/180)\n",
    "port = Port((20, 10), 0)\n",
    "element.getPorts()\n",
    "print(element.ports)\n",
    "element.mergeWithPort(port, 0)\n",
    "print(element.ports)\n",
    "element.draw()"
   ]
  },
  {
   "cell_type": "code",
   "execution_count": 3,
   "metadata": {},
   "outputs": [],
   "source": [
    "sketch = Sketch('helloWorld')\n"
   ]
  },
  {
   "cell_type": "code",
   "execution_count": null,
   "metadata": {},
   "outputs": [],
   "source": [
    "\n",
    "sketch.addGeometry(element)\n",
    "sketch.draw()"
   ]
  },
  {
   "cell_type": "markdown",
   "metadata": {},
   "source": [
    "### Обозначения слоев\n",
    "0 - металл с копланарами\n",
    "\n",
    "1 - подложка\n",
    "\n",
    "2 - металл с чипами\n",
    "\n",
    "3 - vias\n",
    "\n",
    "4 - технический уровень"
   ]
  },
  {
   "cell_type": "code",
   "execution_count": null,
   "metadata": {},
   "outputs": [],
   "source": [
    "# rect = gdspy.Rectangle((0,0), (1,2))\n",
    "# rect2 = gdspy.Rectangle((0,0), (0.5,1))\n",
    "# print(type(gdspy.boolean(rect,rect2, 'not')))\n",
    "# cell.add(gdspy.boolean(rect,rect2, 'not'))\n",
    "# gdspy.LayoutViewer()"
   ]
  },
  {
   "cell_type": "code",
   "execution_count": null,
   "metadata": {},
   "outputs": [],
   "source": []
  },
  {
   "cell_type": "code",
   "execution_count": null,
   "metadata": {},
   "outputs": [],
   "source": []
  }
 ],
 "metadata": {
  "kernelspec": {
   "display_name": "Python 3 (ipykernel)",
   "language": "python",
   "name": "python3"
  },
  "language_info": {
   "codemirror_mode": {
    "name": "ipython",
    "version": 3
   },
   "file_extension": ".py",
   "mimetype": "text/x-python",
   "name": "python",
   "nbconvert_exporter": "python",
   "pygments_lexer": "ipython3",
   "version": "3.7.12"
  }
 },
 "nbformat": 4,
 "nbformat_minor": 4
}
