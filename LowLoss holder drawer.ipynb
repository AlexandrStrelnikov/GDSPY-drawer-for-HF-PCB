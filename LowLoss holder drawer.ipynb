{
 "cells": [
  {
   "cell_type": "code",
   "execution_count": 1,
   "metadata": {},
   "outputs": [],
   "source": [
    "import gdspy\n",
    "import numpy as np\n",
    "from element import *\n",
    "from sketch import *"
   ]
  },
  {
   "cell_type": "markdown",
   "metadata": {},
   "source": [
    "### Обозначения слоев\n",
    "0 - металл с копланарами\n",
    "\n",
    "1 - подложка\n",
    "\n",
    "2 - металл с чипами\n",
    "\n",
    "3 - vias\n",
    "\n",
    "4 - порты\n",
    "\n",
    "5 - технический уровень\n",
    "\n",
    "6 - сверление на неполную глубину"
   ]
  },
  {
   "cell_type": "markdown",
   "metadata": {},
   "source": [
    "# 16-pin держатель"
   ]
  },
  {
   "cell_type": "code",
   "execution_count": 2,
   "metadata": {},
   "outputs": [],
   "source": [
    "# sketch = Sketch('16-pin sample holder')\n",
    "# Rcpw = 45e3/2\n",
    "\n",
    "# R_center_position_hole = 52e3/2\n",
    "# D_positionHole = 1.6e3\n",
    "\n",
    "# a_screw = 9e3*2\n",
    "# D_screw = 4.3e3\n",
    "\n",
    "# portePerEdge = 4\n",
    "# portsNum = portePerEdge*4\n",
    "# singlePortAngle = 2*np.pi/portsNum\n",
    "\n",
    "# u_cpw = np.array([np.cos(singlePortAngle*(portePerEdge-1)//2 + singlePortAngle/2*(portePerEdge-1)%2),\n",
    "#                  -np.sin(singlePortAngle*(portePerEdge-1)//2 + singlePortAngle/2*(portePerEdge-1)%2)])*Rcpw\n",
    "# h_position_hole = np.array([np.cos(singlePortAngle/2 + singlePortAngle*(portePerEdge-1)//2 + singlePortAngle/2*(portePerEdge-1)%2),\n",
    "#                  -np.sin(singlePortAngle/2 + singlePortAngle*(portePerEdge-1)//2 + singlePortAngle/2*(portePerEdge-1)%2)])*R_center_position_hole\n",
    "# holeSize = 11e3\n",
    "\n",
    "# hole = ChipHole(a = holeSize, portsPerEdge = portePerEdge, portDisp = 1280*2)\n",
    "\n",
    "# for i in range(0, portsNum):\n",
    "#     if i%portePerEdge == 0:\n",
    "#         chipPort = PCB_CHIP(leftVia = True, rightVia = True)\n",
    "#     else:\n",
    "#         chipPort = PCB_CHIP(leftVia = True, rightVia = False)\n",
    "#     chipPort.mergeWithPort(hole.ports[i], 1)\n",
    "    \n",
    "#     smpPort = SMP_PCB()\n",
    "#     smpPort.move(u_cpw)\n",
    "#     smpPort.rotate(np.pi - (singlePortAngle*(portePerEdge-1)//2 + singlePortAngle/2*(portePerEdge-1)%2))\n",
    "#     smpPort.rotate(singlePortAngle*i, center = (0,0))\n",
    "    \n",
    "#     if i%4 == 0 or i%4 == 3:\n",
    "#         cpw = CPW(port1 = chipPort.ports[0], port2 = smpPort.ports[0], s = 1000, w = 330,  inter_dist = 350, chessOrder = True)\n",
    "#     else:\n",
    "#         cpw = CPW(port1 = chipPort.ports[0], port2 = smpPort.ports[0], s = 1000, w = 330,  inter_dist = 550, chessOrder = True)\n",
    "    \n",
    "#     positionHole = ThroughHole(D_positionHole)\n",
    "#     positionHole.move(h_position_hole)\n",
    "#     positionHole.rotate(singlePortAngle*i, center = (0,0))\n",
    "    \n",
    "#     sketch.addGeometry(positionHole)\n",
    "#     sketch.addGeometry(cpw)\n",
    "#     sketch.addGeometry(smpPort)\n",
    "#     sketch.addGeometry(chipPort)\n",
    "\n",
    "# #     print(i)\n",
    "    \n",
    "# for i in [-1,1]:\n",
    "#     for j in [-1,1]:\n",
    "#         screwHole = ThroughHole(D_screw)\n",
    "#         screwHole.move((i*a_screw/2, j*a_screw/2))\n",
    "#         sketch.addGeometry(screwHole)\n",
    "        \n",
    "    \n",
    "    \n",
    "# sketch.addGeometry(hole)\n",
    "# sketch.draw()\n",
    "# sketch.saveGDS('16pin')\n",
    "# sketch.saveSVG('16pin')"
   ]
  },
  {
   "cell_type": "markdown",
   "metadata": {},
   "source": [
    "# 8-pin держатель"
   ]
  },
  {
   "cell_type": "code",
   "execution_count": 3,
   "metadata": {},
   "outputs": [
    {
     "name": "stderr",
     "output_type": "stream",
     "text": [
      "C:\\Users\\burun\\Desktop\\GDSPY Drawer\\sketch.py:84: UserWarning: [GDSPY] Polygons with more than 8190 are not supported by the official GDSII specification.  This GDSII file might not be compatible with all readers.\n",
      "  self.lib.write_gds(filename + '.gds')\n"
     ]
    }
   ],
   "source": [
    "sketch = Sketch('8-pin sample holder')\n",
    "Rcpw = 30e3/2\n",
    "\n",
    "R_center_position_hole = 30e3/2\n",
    "D_positionHole = 1.6e3\n",
    "\n",
    "a_screw = 5.5e3*2\n",
    "D_screw = 3e3\n",
    "\n",
    "portePerEdge = 2\n",
    "portsNum = portePerEdge*4\n",
    "singlePortAngle = 2*np.pi/portsNum\n",
    "\n",
    "u_cpw = np.array([np.cos(singlePortAngle*(portePerEdge-1)//2 + singlePortAngle/2*(portePerEdge-1)%2),\n",
    "                 -np.sin(singlePortAngle*(portePerEdge-1)//2 + singlePortAngle/2*(portePerEdge-1)%2)])*Rcpw\n",
    "h_position_hole = np.array([np.cos(singlePortAngle/2 + singlePortAngle*(portePerEdge-1)//2 + singlePortAngle/2*(portePerEdge-1)%2),\n",
    "                 -np.sin(singlePortAngle/2 + singlePortAngle*(portePerEdge-1)//2 + singlePortAngle/2*(portePerEdge-1)%2)])*R_center_position_hole\n",
    "holeSize = 6e3\n",
    "\n",
    "hole = ChipHole(a = holeSize, portsPerEdge = portePerEdge, portDisp = 1280*2)\n",
    "\n",
    "for i in range(0, portsNum):\n",
    "    if i%portePerEdge == 0:\n",
    "        chipPort = PCB_CHIP(leftVia = True, rightVia = True)\n",
    "    else:\n",
    "        chipPort = PCB_CHIP(leftVia = True, rightVia = False)\n",
    "    chipPort.mergeWithPort(hole.ports[i], 1)\n",
    "    \n",
    "    smpPort = SMP_PCB()\n",
    "    smpPort.move(u_cpw)\n",
    "    smpPort.rotate(np.pi - (singlePortAngle*(portePerEdge-1)//2 + singlePortAngle/2*(portePerEdge-1)%2))\n",
    "    smpPort.rotate(singlePortAngle*i, center = (0,0))\n",
    "    \n",
    "\n",
    "    cpw = CPW(port1 = chipPort.ports[0], port2 = smpPort.ports[0], s = 1000, w = 330,  inter_dist = 400, chessOrder = True)\n",
    "    \n",
    "    positionHole = ThroughHole(D_positionHole)\n",
    "    positionHole.move(h_position_hole)\n",
    "    positionHole.rotate(singlePortAngle*i, center = (0,0))\n",
    "    \n",
    "    sketch.addGeometry(positionHole)\n",
    "    sketch.addGeometry(cpw)\n",
    "    sketch.addGeometry(smpPort)\n",
    "    sketch.addGeometry(chipPort)\n",
    "\n",
    "#     print(i)\n",
    "    \n",
    "for i in [-1,1]:\n",
    "    for j in [-1,1]:\n",
    "        screwHole = ThroughHole(D_screw)\n",
    "        screwHole.move((i*a_screw/2, j*a_screw/2))\n",
    "        sketch.addGeometry(screwHole)\n",
    "        \n",
    "    \n",
    "    \n",
    "sketch.addGeometry(hole)\n",
    "sketch.draw()\n",
    "sketch.saveGDS('8pin')\n",
    "sketch.saveSVG('8pin')"
   ]
  }
 ],
 "metadata": {
  "kernelspec": {
   "display_name": "Python 3 (ipykernel)",
   "language": "python",
   "name": "python3"
  },
  "language_info": {
   "codemirror_mode": {
    "name": "ipython",
    "version": 3
   },
   "file_extension": ".py",
   "mimetype": "text/x-python",
   "name": "python",
   "nbconvert_exporter": "python",
   "pygments_lexer": "ipython3",
   "version": "3.7.12"
  }
 },
 "nbformat": 4,
 "nbformat_minor": 4
}
