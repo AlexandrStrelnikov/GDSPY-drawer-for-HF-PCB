{
 "cells": [
  {
   "cell_type": "code",
   "execution_count": 1,
   "metadata": {},
   "outputs": [],
   "source": [
    "import gdspy\n",
    "import numpy as np\n",
    "from element import *\n",
    "from sketch import *\n",
    "import imp"
   ]
  },
  {
   "cell_type": "markdown",
   "metadata": {},
   "source": [
    "### Обозначения слоев\n",
    "0 - металл с копланарами\n",
    "\n",
    "1 - подложка\n",
    "\n",
    "2 - металл с чипами\n",
    "\n",
    "3 - vias\n",
    "\n",
    "4 - порты\n",
    "\n",
    "5 - технический уровень\n",
    "\n",
    "6 - сверление на неполную глубину"
   ]
  },
  {
   "cell_type": "markdown",
   "metadata": {},
   "source": [
    "# 16-pin держатель"
   ]
  },
  {
   "cell_type": "code",
   "execution_count": 2,
   "metadata": {},
   "outputs": [],
   "source": [
    "# imp.reload(gdspy)\n",
    "# from element import *\n",
    "# from sketch import *\n",
    "\n",
    "# sketch = Sketch('16-pin sample holder')\n",
    "# baseGeometry = gdspy.Round((0, 0), 53e3/2)\n",
    "# for i in [0, 1, 2]:\n",
    "#     sketch.boolean(baseGeometry, 'or', i)\n",
    "\n",
    "# Rcpw = 44e3/2\n",
    "\n",
    "# R_center_position_hole = 53e3/2\n",
    "# D_positionHole = 2e3\n",
    "\n",
    "# a_screw = 10.5e3*2\n",
    "# D_screw = 3.2e3\n",
    "\n",
    "# portePerEdge = 4\n",
    "# portsNum = portePerEdge*4\n",
    "# singlePortAngle = 2*np.pi/portsNum\n",
    "\n",
    "# u_cpw = np.array([np.cos(singlePortAngle*(portePerEdge-1)//2 + singlePortAngle/2*(portePerEdge-1)%2),\n",
    "#                  -np.sin(singlePortAngle*(portePerEdge-1)//2 + singlePortAngle/2*(portePerEdge-1)%2)])*Rcpw\n",
    "# h_position_hole = np.array([np.cos(singlePortAngle/2 + singlePortAngle*(portePerEdge-1)//2 + singlePortAngle/2*(portePerEdge-1)%2),\n",
    "#                  -np.sin(singlePortAngle/2 + singlePortAngle*(portePerEdge-1)//2 + singlePortAngle/2*(portePerEdge-1)%2)])*R_center_position_hole\n",
    "# holeSize = 10e3\n",
    "\n",
    "# hole = ChipHole(a = holeSize, TH = 1.35e3, portsPerEdge = portePerEdge, portDisp = 1280*2,  throughAll = True)\n",
    "# # hole = ChipHole(a = holeSize, TH = 0.5e3, portsPerEdge = portePerEdge, portDisp = 1280*2, throughAll = True)\n",
    "\n",
    "# for i in range(0, 4):\n",
    "#     if i%portePerEdge == 0:\n",
    "#         chipPort = PCB_CHIP(leftVia = True, rightVia = True)\n",
    "#     else:\n",
    "#         chipPort = PCB_CHIP(leftVia = True, rightVia = False)\n",
    "#     chipPort.mergeWithPort(hole.ports[i], 1)\n",
    "#     print(chipPort.position)\n",
    "    \n",
    "#     smpPort = SMP_PCB()\n",
    "#     smpPort.move(u_cpw)\n",
    "#     smpPort.rotate(np.pi - (singlePortAngle*(portePerEdge-1)//2 + singlePortAngle/2*(portePerEdge-1)%2))\n",
    "#     smpPort.rotate(singlePortAngle*i, center = (0,0))\n",
    "#     print(smpPort.position)\n",
    "    \n",
    "#     if i%4 == 0 or i%4 == 3:\n",
    "#         cpw = CPW(port1 = chipPort.ports[0], port2 = smpPort.ports[0], s = 1000, w = 330,  inter_dist = 330, chessOrder = True)\n",
    "#     else:\n",
    "#         cpw = CPW(port1 = chipPort.ports[0], port2 = smpPort.ports[0], s = 1000, w = 330,  inter_dist = 550, chessOrder = True)\n",
    "    \n",
    "#     if i%4 == 3 or i%4 == 1:\n",
    "#         positionHole = ThroughHole(D_positionHole)\n",
    "#         positionHole.move(h_position_hole)\n",
    "#         positionHole.rotate(singlePortAngle*i, center = (0,0))\n",
    "#         sketch.addGeometry(positionHole)\n",
    "        \n",
    "#     sketch.addGeometry(cpw)\n",
    "#     sketch.addGeometry(smpPort)\n",
    "#     sketch.addGeometry(chipPort)\n",
    "\n",
    "#     print(i)\n",
    "    \n",
    "# for i in [-1,1]:\n",
    "#     for j in [-1,1]:\n",
    "#         screwHole = ThroughHole(D_screw)\n",
    "#         screwHole.move((i*a_screw/2, j*a_screw/2))\n",
    "#         sketch.addGeometry(screwHole)\n",
    "        \n",
    "    \n",
    "    \n",
    "# sketch.addGeometry(hole)\n",
    "# sketch.draw()\n",
    "# # sketch.saveGDS('16pin')"
   ]
  },
  {
   "cell_type": "code",
   "execution_count": 3,
   "metadata": {},
   "outputs": [],
   "source": [
    "# sketch.saveGDS('16pin low quality')\n"
   ]
  },
  {
   "cell_type": "code",
   "execution_count": 4,
   "metadata": {},
   "outputs": [],
   "source": [
    "# singlePortAngle/np.pi*180"
   ]
  },
  {
   "cell_type": "markdown",
   "metadata": {},
   "source": [
    "# 8-pin держатель"
   ]
  },
  {
   "cell_type": "code",
   "execution_count": 8,
   "metadata": {
    "scrolled": true
   },
   "outputs": [
    {
     "name": "stdout",
     "output_type": "stream",
     "text": [
      "(15000.0, 0)\n",
      "(12990.38105676658, -7499.999999999999)\n",
      "(12990.38105676658, -7499.999999999999)\n",
      "0\n"
     ]
    }
   ],
   "source": [
    "imp.reload(gdspy)\n",
    "from element import *\n",
    "from sketch import *\n",
    "\n",
    "sketch = Sketch('8-pin sample holder')\n",
    "baseGeometry = gdspy.Round((0, 0), 40e3/2)\n",
    "for i in [0, 1, 2]:\n",
    "    sketch.boolean(baseGeometry, 'or', i)\n",
    "\n",
    "# aSMP = 30e3\n",
    "# dispSMP = 6.8e3\n",
    "Rsmp = 30e3/2\n",
    "angSMP = 30*np.pi/180\n",
    "\n",
    "R_center_position_hole = 30e3/2\n",
    "D_positionHole = 1.6e3\n",
    "\n",
    "a_screw = 5.5e3*2\n",
    "D_screw = 3e3\n",
    "\n",
    "holeSize = 7e3\n",
    "\n",
    "hole = ChipHole(a = holeSize, portsPerEdge = 2, portDisp = 1280*2+300*2)\n",
    "sketch.addGeometry(hole)\n",
    "\n",
    "\n",
    "for j in range(0,1):\n",
    "    for i in range(0, 1):\n",
    "        if i == 0:\n",
    "            chipPort = PCB_CHIP(leftVia = True, rightVia = True)\n",
    "            chipPort.mergeWithPort(hole.ports[j*2 + i], 1)\n",
    "            \n",
    "            smpPort = SMP_PCB()\n",
    "            smpPort.move([Rsmp, 0])\n",
    "            smpPort.rotate(np.pi)\n",
    "            print(smpPort.position)\n",
    "            smpPort.rotate(-angSMP, center = (0, 0))\n",
    "            print(smpPort.position)\n",
    "            smpPort.rotate(angSMP)\n",
    "            print(smpPort.position)\n",
    "\n",
    "            \n",
    "#             cpw = CPW(port1 = chipPort.ports[0], port2 = smpPort.ports[0], s = 1000, w = 330,  inter_dist = 500, chessOrder = False)\n",
    "#             sketch.addGeometry(cpw)\n",
    "            sketch.addGeometry(smpPort)\n",
    "            sketch.addGeometry(chipPort)\n",
    "            \n",
    "            print(i)\n",
    "            \n",
    "        else:\n",
    "            chipPort = PCB_CHIP(leftVia = True, rightVia = True)\n",
    "            chipPort.mergeWithPort(hole.ports[j*2 + i], 1)\n",
    "            \n",
    "            smpPort = SMP_PCB()\n",
    "            smpPort.move([30e3/2, 0])\n",
    "            smpPort.rotate(np.pi)\n",
    "            smpPort.rotate(angSMP/2, center = (0, 0))\n",
    "\n",
    "            \n",
    "#             cpw = CPW(port1 = chipPort.ports[0], port2 = smpPort.ports[0], s = 1000, w = 330,  inter_dist = 500, chessOrder = False)\n",
    "\n",
    "#             sketch.addGeometry(cpw)\n",
    "            sketch.addGeometry(smpPort)\n",
    "            sketch.addGeometry(chipPort)\n",
    "            print(i)\n",
    "\n",
    "#     positionHole = ThroughHole(D_positionHole)\n",
    "#     positionHole.move(h_position_hole)\n",
    "#     positionHole.rotate(singlePortAngle*i, center = (0,0))\n",
    "#     sketch.addGeometry(chipPort)\n",
    "\n",
    "#     print(i)\n",
    "    \n",
    "# for i in [-1,1]:\n",
    "#     for j in [-1,1]:\n",
    "#         screwHole = ThroughHole(D_screw)\n",
    "#         screwHole.move((i*a_screw/2, j*a_screw/2))\n",
    "#         sketch.addGeometry(screwHole)\n",
    "        \n",
    "\n",
    "sketch.draw()\n",
    "# sketch.saveGDS('8pin')\n",
    "# sketch.saveSVG('8pin')"
   ]
  },
  {
   "cell_type": "code",
   "execution_count": 9,
   "metadata": {},
   "outputs": [
    {
     "data": {
      "text/plain": [
       "15000.0"
      ]
     },
     "execution_count": 9,
     "metadata": {},
     "output_type": "execute_result"
    }
   ],
   "source": []
  },
  {
   "cell_type": "code",
   "execution_count": null,
   "metadata": {},
   "outputs": [],
   "source": []
  }
 ],
 "metadata": {
  "kernelspec": {
   "display_name": "Python 3 (ipykernel)",
   "language": "python",
   "name": "python3"
  },
  "language_info": {
   "codemirror_mode": {
    "name": "ipython",
    "version": 3
   },
   "file_extension": ".py",
   "mimetype": "text/x-python",
   "name": "python",
   "nbconvert_exporter": "python",
   "pygments_lexer": "ipython3",
   "version": "3.7.12"
  }
 },
 "nbformat": 4,
 "nbformat_minor": 4
}
